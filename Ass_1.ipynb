{
  "nbformat": 4,
  "nbformat_minor": 0,
  "metadata": {
    "colab": {
      "provenance": [],
      "authorship_tag": "ABX9TyPfKK8GS4CCpSfxWyY+anpq",
      "include_colab_link": true
    },
    "kernelspec": {
      "name": "python3",
      "display_name": "Python 3"
    },
    "language_info": {
      "name": "python"
    }
  },
  "cells": [
    {
      "cell_type": "markdown",
      "metadata": {
        "id": "view-in-github",
        "colab_type": "text"
      },
      "source": [
        "<a href=\"https://colab.research.google.com/github/PrasanthPollayi/iris_prediction/blob/main/Ass_1.ipynb\" target=\"_parent\"><img src=\"https://colab.research.google.com/assets/colab-badge.svg\" alt=\"Open In Colab\"/></a>"
      ]
    },
    {
      "cell_type": "markdown",
      "source": [
        "1) Distribute  Candy"
      ],
      "metadata": {
        "id": "Q5-RFKZbStxA"
      }
    },
    {
      "cell_type": "code",
      "execution_count": null,
      "metadata": {
        "colab": {
          "base_uri": "https://localhost:8080/"
        },
        "id": "z_MOq-ZOPldQ",
        "outputId": "6a54466a-9f3b-4e4e-8fbd-c9eca0ea3529"
      },
      "outputs": [
        {
          "output_type": "stream",
          "name": "stdout",
          "text": [
            "3\n"
          ]
        }
      ],
      "source": [
        "def distribute_candies(A):\n",
        "    n = len(A)\n",
        "\n",
        "\n",
        "    candies = [1] * n\n",
        "\n",
        "    for i in range(1, n):\n",
        "        if A[i] > A[i - 1]:\n",
        "            candies[i] = candies[i - 1] + 1\n",
        "\n",
        "    for i in range(n - 2, -1, -1):\n",
        "        if A[i] > A[i + 1]:\n",
        "            candies[i] = max(candies[i], candies[i + 1] + 1)\n",
        "\n",
        "    return sum(candies)\n",
        "\n",
        "\n",
        "A = [1, 2]\n",
        "result = distribute_candies(A)\n",
        "print(result)\n"
      ]
    },
    {
      "cell_type": "markdown",
      "source": [
        "2) Best Time to Buy and Sell Stocks I"
      ],
      "metadata": {
        "id": "d-h1oDr9Sw7O"
      }
    },
    {
      "cell_type": "code",
      "source": [
        "def max_profit(A):\n",
        "    n = len(A)\n",
        "\n",
        "    if n <= 1:\n",
        "        return 0\n",
        "    min_price = A[0]\n",
        "    max_profit = 0\n",
        "\n",
        "    for price in A:\n",
        "        min_price = min(min_price, price)\n",
        "        max_profit = max(max_profit, price - min_price)\n",
        "\n",
        "    return max_profit\n",
        "\n",
        "A1 = [1, 2]\n",
        "A2 = [1, 4, 5, 2, 4]\n",
        "\n",
        "result1 = max_profit(A1)\n",
        "result2 = max_profit(A2)\n",
        "\n",
        "print(result1)\n",
        "print(result2)\n"
      ],
      "metadata": {
        "colab": {
          "base_uri": "https://localhost:8080/"
        },
        "id": "uTk7bdzQP5jf",
        "outputId": "99b90b91-4bc6-456c-d087-1c6f09a3b159"
      },
      "execution_count": null,
      "outputs": [
        {
          "output_type": "stream",
          "name": "stdout",
          "text": [
            "1\n",
            "4\n"
          ]
        }
      ]
    },
    {
      "cell_type": "markdown",
      "source": [
        "3)Stairs"
      ],
      "metadata": {
        "id": "2QMCep1FS36u"
      }
    },
    {
      "cell_type": "code",
      "source": [
        "def climbStairs(A):\n",
        "    if A == 1:\n",
        "        return 1\n",
        "    if A == 2:\n",
        "        return 2\n",
        "\n",
        "    ways = [0] * (A + 1)\n",
        "\n",
        "    ways[1] = 1\n",
        "    ways[2] = 2\n",
        "\n",
        "    for i in range(3, A + 1):\n",
        "        ways[i] = ways[i - 1] + ways[i - 2]\n",
        "\n",
        "    return ways[A]\n",
        "\n",
        "\n",
        "A1 = 2\n",
        "A2 = 3\n",
        "\n",
        "result1 = climbStairs(A1)\n",
        "result2 = climbStairs(A2)\n",
        "\n",
        "print(result1)\n",
        "print(result2)"
      ],
      "metadata": {
        "colab": {
          "base_uri": "https://localhost:8080/"
        },
        "id": "MCTC0PcoQRGX",
        "outputId": "2748110a-85f8-4c48-9488-cd9db31bf967"
      },
      "execution_count": null,
      "outputs": [
        {
          "output_type": "stream",
          "name": "stdout",
          "text": [
            "2\n",
            "3\n"
          ]
        }
      ]
    },
    {
      "cell_type": "markdown",
      "source": [
        "4)Kth Row of Pascal's Triangle"
      ],
      "metadata": {
        "id": "WG88eQARS-xZ"
      }
    },
    {
      "cell_type": "code",
      "source": [
        "def getRow(k):\n",
        "    if k < 0:\n",
        "        return []\n",
        "\n",
        "    row = [1]\n",
        "\n",
        "    for i in range(1, k + 1):\n",
        "\n",
        "        current_element = (row[i - 1] * (k - i + 1)) // i\n",
        "        row.append(current_element)\n",
        "\n",
        "    return row\n",
        "\n",
        "k = 3\n",
        "result = getRow(k)\n",
        "print(result)\n"
      ],
      "metadata": {
        "colab": {
          "base_uri": "https://localhost:8080/"
        },
        "id": "5e7DaOxMQmQU",
        "outputId": "3dc8dee6-94f7-4822-e1a0-93e0a3e4bd30"
      },
      "execution_count": null,
      "outputs": [
        {
          "output_type": "stream",
          "name": "stdout",
          "text": [
            "[1, 3, 3, 1]\n"
          ]
        }
      ]
    },
    {
      "cell_type": "markdown",
      "source": [
        "5) Repeat and Missing Number Array"
      ],
      "metadata": {
        "id": "B7NWjQWVTDNh"
      }
    },
    {
      "cell_type": "code",
      "source": [
        "def repeatedNumber(A):\n",
        "    n = len(A)\n",
        "\n",
        "    repeated, missing = 0, 0\n",
        "\n",
        "    for i in range(n):\n",
        "        index = abs(A[i]) - 1\n",
        "\n",
        "        if A[index] > 0:\n",
        "            A[index] = -A[index]\n",
        "        else:\n",
        "            repeated = abs(A[i])\n",
        "\n",
        "    for i in range(n):\n",
        "        if A[i] > 0:\n",
        "            missing = i + 1\n",
        "            break\n",
        "\n",
        "    return [repeated, missing]\n",
        "\n",
        "input_array = [3, 1, 2, 5, 3]\n",
        "output = repeatedNumber(input_array)\n",
        "print(output)"
      ],
      "metadata": {
        "id": "JvQud_fZRKFX",
        "outputId": "9e4245e9-9bdf-4e09-a804-88b7121c8ea4",
        "colab": {
          "base_uri": "https://localhost:8080/"
        }
      },
      "execution_count": null,
      "outputs": [
        {
          "output_type": "stream",
          "name": "stdout",
          "text": [
            "[3, 4]\n"
          ]
        }
      ]
    }
  ]
}